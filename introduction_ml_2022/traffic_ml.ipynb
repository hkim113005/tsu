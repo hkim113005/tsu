{
 "cells": [
  {
   "cell_type": "code",
   "execution_count": 1,
   "id": "9b892248-9c5c-4e0c-b6fb-4072cee5472f",
   "metadata": {},
   "outputs": [],
   "source": [
    "import cv2\n",
    "import numpy as np\n",
    "import os\n",
    "import sys\n",
    "import tensorflow as tf\n",
    "\n",
    "from sklearn.model_selection import train_test_split"
   ]
  },
  {
   "cell_type": "code",
   "execution_count": 5,
   "id": "b8e4d2d5-c132-4b77-b046-0c3c2200dc19",
   "metadata": {},
   "outputs": [],
   "source": [
    "EPOCHS = 20\n",
    "IMG_WIDTH = 30\n",
    "IMG_HEIGHT = 30\n",
    "NUM_CATEGORIES = 43\n",
    "TEST_SIZE = 0.4\n",
    "\n",
    "DATA_DIR = \"gtsrb\""
   ]
  },
  {
   "cell_type": "code",
   "execution_count": 7,
   "id": "6f81ee19-23a1-41e5-aea5-488c3c512acd",
   "metadata": {},
   "outputs": [],
   "source": [
    "images = []\n",
    "labels = []\n",
    "for i in range(NUM_CATEGORIES):\n",
    "    for filename in os.listdir(os.path.join(DATA_DIR, str(i))):\n",
    "        f = os.path.join(DATA_DIR, str(i), filename)\n",
    "        d = (IMG_WIDTH, IMG_HEIGHT)\n",
    "\n",
    "        image = np.asarray(cv2.resize(cv2.imread(f), d))\n",
    "\n",
    "        images.append(image)\n",
    "        labels.append(i)"
   ]
  },
  {
   "cell_type": "code",
   "execution_count": 8,
   "id": "639fab77-ed08-45eb-bac0-f02ee4c4b939",
   "metadata": {},
   "outputs": [],
   "source": [
    "labels = tf.keras.utils.to_categorical(labels)\n",
    "x_train, x_test, y_train, y_test = train_test_split(np.array(images), np.array(labels), test_size=TEST_SIZE)"
   ]
  },
  {
   "cell_type": "code",
   "execution_count": 9,
   "id": "03dcf508-03f3-42b9-be19-5876e3411298",
   "metadata": {},
   "outputs": [
    {
     "name": "stderr",
     "output_type": "stream",
     "text": [
      "2022-08-31 12:34:03.252596: I tensorflow/core/common_runtime/pluggable_device/pluggable_device_factory.cc:305] Could not identify NUMA node of platform GPU ID 0, defaulting to 0. Your kernel may not have been built with NUMA support.\n",
      "2022-08-31 12:34:03.252864: I tensorflow/core/common_runtime/pluggable_device/pluggable_device_factory.cc:271] Created TensorFlow device (/job:localhost/replica:0/task:0/device:GPU:0 with 0 MB memory) -> physical PluggableDevice (device: 0, name: METAL, pci bus id: <undefined>)\n"
     ]
    },
    {
     "name": "stdout",
     "output_type": "stream",
     "text": [
      "Metal device set to: Apple M1 Pro\n"
     ]
    }
   ],
   "source": [
    " model = tf.keras.models.Sequential([\n",
    "    tf.keras.layers.Conv2D(\n",
    "        32, (3, 3), activation=\"relu\", input_shape=(IMG_WIDTH, IMG_HEIGHT, 3)\n",
    "    ),\n",
    "    tf.keras.layers.MaxPooling2D(pool_size=(2, 2)),\n",
    "    tf.keras.layers.Conv2D(\n",
    "        64, (3, 3), activation=\"relu\", input_shape=(IMG_WIDTH, IMG_HEIGHT, 3)\n",
    "    ),\n",
    "    tf.keras.layers.MaxPooling2D(pool_size=(2, 2)),\n",
    "    tf.keras.layers.Flatten(),\n",
    "\n",
    "    tf.keras.layers.Dense(256, activation=\"relu\"),\n",
    "    tf.keras.layers.Dropout(0.2),\n",
    "    tf.keras.layers.Dense(256, activation=\"relu\"),\n",
    "    tf.keras.layers.Dropout(0.1),\n",
    "\n",
    "    tf.keras.layers.Dense(NUM_CATEGORIES, activation=\"softmax\")\n",
    "])\n",
    "\n",
    "model.compile(\n",
    "    optimizer=\"adam\",\n",
    "    loss=\"categorical_crossentropy\",\n",
    "    metrics=[\"accuracy\"]\n",
    ")"
   ]
  },
  {
   "cell_type": "code",
   "execution_count": 10,
   "id": "5805e154-8d18-42d6-bade-3c271ac1e43b",
   "metadata": {},
   "outputs": [
    {
     "name": "stdout",
     "output_type": "stream",
     "text": [
      "Epoch 1/20\n"
     ]
    },
    {
     "name": "stderr",
     "output_type": "stream",
     "text": [
      "2022-08-31 12:34:51.355660: W tensorflow/core/platform/profile_utils/cpu_utils.cc:128] Failed to get CPU frequency: 0 Hz\n",
      "2022-08-31 12:34:51.656270: I tensorflow/core/grappler/optimizers/custom_graph_optimizer_registry.cc:113] Plugin optimizer for device_type GPU is enabled.\n"
     ]
    },
    {
     "name": "stdout",
     "output_type": "stream",
     "text": [
      "500/500 [==============================] - 8s 12ms/step - loss: 2.3120 - accuracy: 0.5334\n",
      "Epoch 2/20\n",
      "500/500 [==============================] - 5s 11ms/step - loss: 0.5613 - accuracy: 0.8433\n",
      "Epoch 3/20\n",
      "500/500 [==============================] - 5s 11ms/step - loss: 0.3025 - accuracy: 0.9144\n",
      "Epoch 4/20\n",
      "500/500 [==============================] - 5s 11ms/step - loss: 0.2502 - accuracy: 0.9327\n",
      "Epoch 5/20\n",
      "500/500 [==============================] - 6s 11ms/step - loss: 0.1950 - accuracy: 0.9472\n",
      "Epoch 6/20\n",
      "500/500 [==============================] - 5s 11ms/step - loss: 0.1664 - accuracy: 0.9541\n",
      "Epoch 7/20\n",
      "500/500 [==============================] - 6s 11ms/step - loss: 0.1878 - accuracy: 0.9539\n",
      "Epoch 8/20\n",
      "500/500 [==============================] - 5s 11ms/step - loss: 0.1496 - accuracy: 0.9634\n",
      "Epoch 9/20\n",
      "500/500 [==============================] - 6s 11ms/step - loss: 0.1461 - accuracy: 0.9637\n",
      "Epoch 10/20\n",
      "500/500 [==============================] - 5s 11ms/step - loss: 0.1160 - accuracy: 0.9717\n",
      "Epoch 11/20\n",
      "500/500 [==============================] - 5s 11ms/step - loss: 0.1557 - accuracy: 0.9644\n",
      "Epoch 12/20\n",
      "500/500 [==============================] - 5s 11ms/step - loss: 0.0978 - accuracy: 0.9760\n",
      "Epoch 13/20\n",
      "500/500 [==============================] - 6s 11ms/step - loss: 0.1310 - accuracy: 0.9685\n",
      "Epoch 14/20\n",
      "500/500 [==============================] - 5s 11ms/step - loss: 0.1232 - accuracy: 0.9737\n",
      "Epoch 15/20\n",
      "500/500 [==============================] - 5s 11ms/step - loss: 0.1453 - accuracy: 0.9693\n",
      "Epoch 16/20\n",
      "500/500 [==============================] - 5s 11ms/step - loss: 0.0581 - accuracy: 0.9859\n",
      "Epoch 17/20\n",
      "500/500 [==============================] - 6s 11ms/step - loss: 0.1068 - accuracy: 0.9763\n",
      "Epoch 18/20\n",
      "500/500 [==============================] - 6s 13ms/step - loss: 0.1543 - accuracy: 0.9679\n",
      "Epoch 19/20\n",
      "500/500 [==============================] - 6s 11ms/step - loss: 0.0881 - accuracy: 0.9817\n",
      "Epoch 20/20\n",
      "500/500 [==============================] - 5s 11ms/step - loss: 0.0873 - accuracy: 0.9844\n"
     ]
    },
    {
     "data": {
      "text/plain": [
       "<keras.callbacks.History at 0x29b1990c0>"
      ]
     },
     "execution_count": 10,
     "metadata": {},
     "output_type": "execute_result"
    }
   ],
   "source": [
    "model.fit(x_train, y_train, epochs=EPOCHS)"
   ]
  },
  {
   "cell_type": "code",
   "execution_count": 11,
   "id": "5ecc6c90-4f51-4293-a06d-c1655f7d14c5",
   "metadata": {},
   "outputs": [
    {
     "name": "stderr",
     "output_type": "stream",
     "text": [
      "2022-08-31 12:36:43.759305: I tensorflow/core/grappler/optimizers/custom_graph_optimizer_registry.cc:113] Plugin optimizer for device_type GPU is enabled.\n"
     ]
    },
    {
     "name": "stdout",
     "output_type": "stream",
     "text": [
      "333/333 - 2s - loss: 0.1202 - accuracy: 0.9817 - 2s/epoch - 5ms/step\n"
     ]
    },
    {
     "data": {
      "text/plain": [
       "[0.1201552078127861, 0.9817004799842834]"
      ]
     },
     "execution_count": 11,
     "metadata": {},
     "output_type": "execute_result"
    }
   ],
   "source": [
    "model.evaluate(x_test,  y_test, verbose=2)"
   ]
  },
  {
   "cell_type": "code",
   "execution_count": null,
   "id": "e6063b58-66ba-4031-9471-fb80c12ba473",
   "metadata": {},
   "outputs": [],
   "source": [
    "model.save(\"model.h5\")"
   ]
  }
 ],
 "metadata": {
  "kernelspec": {
   "display_name": "Python 3 (ipykernel)",
   "language": "python",
   "name": "python3"
  },
  "language_info": {
   "codemirror_mode": {
    "name": "ipython",
    "version": 3
   },
   "file_extension": ".py",
   "mimetype": "text/x-python",
   "name": "python",
   "nbconvert_exporter": "python",
   "pygments_lexer": "ipython3",
   "version": "3.10.4"
  }
 },
 "nbformat": 4,
 "nbformat_minor": 5
}
